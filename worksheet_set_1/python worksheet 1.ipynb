{
 "cells": [
  {
   "cell_type": "markdown",
   "id": "2cf44a6f",
   "metadata": {},
   "source": [
    "## MCQ"
   ]
  },
  {
   "cell_type": "code",
   "execution_count": 1,
   "id": "b6529fd4",
   "metadata": {},
   "outputs": [],
   "source": [
    "#1\n",
    "# answer  C"
   ]
  },
  {
   "cell_type": "code",
   "execution_count": 2,
   "id": "7092abbc",
   "metadata": {},
   "outputs": [],
   "source": [
    "#2\n",
    "# answer B"
   ]
  },
  {
   "cell_type": "code",
   "execution_count": 3,
   "id": "26678937",
   "metadata": {},
   "outputs": [],
   "source": [
    "# 3\n",
    "# answer C"
   ]
  },
  {
   "cell_type": "code",
   "execution_count": 4,
   "id": "ef17ded5",
   "metadata": {},
   "outputs": [],
   "source": [
    "#4\n",
    "# answer A"
   ]
  },
  {
   "cell_type": "code",
   "execution_count": 5,
   "id": "deb0b382",
   "metadata": {},
   "outputs": [],
   "source": [
    "# 5 \n",
    "#answer D "
   ]
  },
  {
   "cell_type": "code",
   "execution_count": 6,
   "id": "48421691",
   "metadata": {},
   "outputs": [],
   "source": [
    "#6\n",
    "#answer C\n"
   ]
  },
  {
   "cell_type": "code",
   "execution_count": 7,
   "id": "0502e331",
   "metadata": {},
   "outputs": [],
   "source": [
    "#7\n",
    "#answer A"
   ]
  },
  {
   "cell_type": "code",
   "execution_count": 8,
   "id": "fe371876",
   "metadata": {},
   "outputs": [],
   "source": [
    "#8\n",
    "#answer C"
   ]
  },
  {
   "cell_type": "code",
   "execution_count": 9,
   "id": "6a24d412",
   "metadata": {},
   "outputs": [],
   "source": [
    "#9\n",
    "#answer A,C"
   ]
  },
  {
   "cell_type": "code",
   "execution_count": 10,
   "id": "4e5c1639",
   "metadata": {},
   "outputs": [],
   "source": [
    "#10\n",
    "#answer A,B"
   ]
  },
  {
   "cell_type": "code",
   "execution_count": null,
   "id": "099ce772",
   "metadata": {},
   "outputs": [],
   "source": [
    "# factorial number \n",
    "\n",
    "num = int(input(\"Enter a number: \"))\n",
    "#you can enter any number \n",
    "\n",
    "factorial = 1\n",
    "\n",
    "if num < 0:\n",
    "   print(\" does not exist \")\n",
    "elif num == 0:\n",
    "   print(\"The factorial of 0 is 1\")\n",
    "else:\n",
    "   for i in range(1,num + 1):\n",
    "       factorial = factorial*i\n",
    "   print(\"The factorial of\",num,\"is\",factorial)\n",
    "\n",
    "\n",
    "\n",
    "\n",
    "\n"
   ]
  },
  {
   "cell_type": "code",
   "execution_count": null,
   "id": "fff1e1e9",
   "metadata": {},
   "outputs": [],
   "source": [
    "# 12\n",
    "\n",
    "# Taking the input from User \n",
    "number = int(input(\"Enter The Number\"))\n",
    "\n",
    "if number > 1:\n",
    "    for i in range(2,int(number/2)+1):\n",
    "        if (number % i == 0):\n",
    "            print(number, \"is not a Prime Number\")\n",
    "            break\n",
    "    else:\n",
    "        print(number,\"is a Prime number\")\n",
    "        \n",
    "# If the number is less than 1 it can't be Prime    \n",
    "else:\n",
    "    print(number,\"is not a Prime number\")"
   ]
  },
  {
   "cell_type": "code",
   "execution_count": null,
   "id": "98aa2fe2",
   "metadata": {},
   "outputs": [],
   "source": [
    "# 13\n",
    "\n",
    "\n",
    "str1 = input(\"eneter th string \")\n",
    "\n",
    "# make it suitable for caseless comparison\n",
    "str1 = str1.casefold()\n",
    "\n",
    "# reverse the string\n",
    "new_str = reversed(str1)\n",
    "\n",
    "#if else loop to check it\n",
    "if list(str1) == list(new_str):\n",
    "   print(\"The string is a palindrome.\")\n",
    "else:\n",
    "   print(\"The string is not a palindrome.\")\n",
    "\n",
    "\n",
    "\n"
   ]
  },
  {
   "cell_type": "code",
   "execution_count": null,
   "id": "7771b52b",
   "metadata": {},
   "outputs": [],
   "source": [
    "# 14 \n",
    "\n",
    "\n",
    "from math import sqrt\n",
    "a = int(input(\"enter the number\\n \"))\n",
    "\n",
    "b = int(input('eneter the secoond number \\n '))\n",
    "\n",
    "c= sqrt(a**2 + b**2)\n",
    "print(\"the lenght of hypotenuse is\\n\", c )"
   ]
  },
  {
   "cell_type": "code",
   "execution_count": null,
   "id": "00175626",
   "metadata": {},
   "outputs": [],
   "source": []
  },
  {
   "cell_type": "code",
   "execution_count": null,
   "id": "8b8d853b",
   "metadata": {},
   "outputs": [],
   "source": [
    "#15\n",
    "\n",
    "def char_frq(str1):\n",
    "    dict = {}\n",
    "    for n in str1:\n",
    "        keys = dict.keys()\n",
    "        if n in keys:\n",
    "            dict[n] += 1\n",
    "        else:\n",
    "            dict[n] = 1\n",
    "    return dict\n",
    "print(char_frq('hello how are you ,hope u are well there '))\n",
    "\n",
    "\n"
   ]
  },
  {
   "cell_type": "code",
   "execution_count": null,
   "id": "f907ff61",
   "metadata": {},
   "outputs": [],
   "source": []
  }
 ],
 "metadata": {
  "kernelspec": {
   "display_name": "Python 3",
   "language": "python",
   "name": "python3"
  },
  "language_info": {
   "codemirror_mode": {
    "name": "ipython",
    "version": 3
   },
   "file_extension": ".py",
   "mimetype": "text/x-python",
   "name": "python",
   "nbconvert_exporter": "python",
   "pygments_lexer": "ipython3",
   "version": "3.8.8"
  }
 },
 "nbformat": 4,
 "nbformat_minor": 5
}
